{
 "cells": [
  {
   "cell_type": "markdown",
   "id": "fd4a310b-540b-4a3b-a18f-19aede5e5db1",
   "metadata": {},
   "source": [
    "# Design cocktail SARS-CoV-2 vaccines\n",
    "This notebook chooses/designs spikes for a SARS-CoV-2 cocktail vaccine.\n",
    "The design is done by Jesse Bloom, for a project led by Drew Weissman.\n",
    "\n",
    "We design the following vaccines:\n",
    "\n",
    " - **parent-vax**: unmutated spike(s) of leading SARS-CoV-2 variants at time of vaccine design.\n",
    " \n",
    " - **cocktail-vax**: spike(s) in *parent-vax* plus additional designed spikes with mutations predicted to be likely to occur in future human SARS-CoV-2.\n",
    " \n",
    " - **conservative-cocktail-vax**: like *cocktail-vax*, but fewer mutations per designed spike.\n",
    " \n",
    " - **aggressive-cocktail-vax**: like *cocktail-vax*, but more mutations per designed spike."
   ]
  },
  {
   "cell_type": "markdown",
   "id": "2a319498-77a9-4b92-9f72-e0f9eff5d385",
   "metadata": {},
   "source": [
    "## Setup\n",
    "Import Python modules:"
   ]
  },
  {
   "cell_type": "code",
   "execution_count": 34,
   "id": "f1ebf31a-43a9-4b55-a523-387ee5730c89",
   "metadata": {
    "tags": []
   },
   "outputs": [],
   "source": [
    "import os\n",
    "import subprocess\n",
    "import tempfile\n",
    "\n",
    "import altair as alt\n",
    "\n",
    "import Bio.Entrez\n",
    "import Bio.SeqIO\n",
    "\n",
    "import pandas as pd\n",
    "\n",
    "import yaml"
   ]
  },
  {
   "cell_type": "markdown",
   "id": "0db7d3d5-0ac6-4bd6-845c-51ad6201a208",
   "metadata": {},
   "source": [
    "Read configuration:"
   ]
  },
  {
   "cell_type": "code",
   "execution_count": 6,
   "id": "efc59b42-d5d6-4757-8277-4240372df73b",
   "metadata": {
    "tags": []
   },
   "outputs": [
    {
     "name": "stdout",
     "output_type": "stream",
     "text": [
      "Here is the configuration:\n",
      "\n",
      "components_per_cocktail: 5\n",
      "mutations_per_design:\n",
      "  aggressive-cocktail: 6\n",
      "  cocktail: 4\n",
      "  conservative-cocktail: 2\n",
      "parent_spikes:\n",
      "  XBB.1.16: WCM02109\n",
      "ref_spike: YP_009724390\n",
      "\n"
     ]
    }
   ],
   "source": [
    "with open(\"config.yaml\") as f:\n",
    "    config = yaml.safe_load(f)\n",
    "    \n",
    "print(\"Here is the configuration:\\n\")\n",
    "print(yaml.dump(config))"
   ]
  },
  {
   "cell_type": "markdown",
   "id": "ecbc0e04-acaf-4757-b68a-7b68abba5214",
   "metadata": {},
   "source": [
    "## Design *parent-vax* \n",
    "Get the sequences:"
   ]
  },
  {
   "cell_type": "code",
   "execution_count": 19,
   "id": "ca50f0fa-5bc9-4113-b753-b74448bcf3a2",
   "metadata": {
    "tags": []
   },
   "outputs": [
    {
     "name": "stdout",
     "output_type": "stream",
     "text": [
      "Getting reference spike from accession YP_009724390\n",
      "Got spike of length 1273\n",
      "\n",
      "Getting parent spike XBB.1.16 from WCM02109\n",
      "Got spike of length 1269\n"
     ]
    }
   ],
   "source": [
    "Bio.Entrez.email = \"example@example.com\"\n",
    "\n",
    "print(f\"Getting reference spike from accession {config['ref_spike']}\")\n",
    "with Bio.Entrez.efetch(id=config[\"ref_spike\"], rettype=\"gb\", retmode=\"text\", db=\"protein\") as f:\n",
    "    ref_spike = Bio.SeqIO.read(f, \"gb\")\n",
    "print(f\"Got spike of length {len(ref_spike)}\")\n",
    "\n",
    "parents = {}\n",
    "for name, acc in config[\"parent_spikes\"].items():\n",
    "    print(f\"\\nGetting parent spike {name} from {acc}\")\n",
    "    with Bio.Entrez.efetch(id=acc, rettype=\"gb\", retmode=\"text\", db=\"protein\") as f:\n",
    "        parents[name] = Bio.SeqIO.read(f, \"gb\")\n",
    "    print(f\"Got spike of length {len(parents[name])}\")"
   ]
  },
  {
   "cell_type": "markdown",
   "id": "f5d45f62-8f06-44a7-acf6-7f0648cb854f",
   "metadata": {
    "tags": []
   },
   "source": [
    "Get the lists of mutations in each parental spike relative to the Wuhan-Hu-1 reference:"
   ]
  },
  {
   "cell_type": "code",
   "execution_count": 42,
   "id": "cceee9e2-305b-4023-ad33-d1b67049e445",
   "metadata": {
    "tags": []
   },
   "outputs": [
    {
     "name": "stdout",
     "output_type": "stream",
     "text": [
      "\n",
      "XBB.1.16 has the following 43 mutations:\n",
      "  T19I\n",
      "  L24-\n",
      "  P25-\n",
      "  P26-\n",
      "  A27S\n",
      "  V83A\n",
      "  G142D\n",
      "  Y145-\n",
      "  H146Q\n",
      "  E180V\n",
      "  Q183E\n",
      "  V213E\n",
      "  G252V\n",
      "  G339H\n",
      "  R346T\n",
      "  L368I\n",
      "  S371F\n",
      "  S373P\n",
      "  S375F\n",
      "  T376A\n",
      "  D405N\n",
      "  R408S\n",
      "  K417N\n",
      "  N440K\n",
      "  V445P\n",
      "  G446S\n",
      "  N460K\n",
      "  S477N\n",
      "  T478R\n",
      "  E484A\n",
      "  F486P\n",
      "  F490S\n",
      "  Q498R\n",
      "  N501Y\n",
      "  Y505H\n",
      "  D614G\n",
      "  H655Y\n",
      "  N679K\n",
      "  P681H\n",
      "  N764K\n",
      "  D796Y\n",
      "  Q954H\n",
      "  N969K\n"
     ]
    }
   ],
   "source": [
    "for name, seq in parents.items():\n",
    "    with tempfile.TemporaryDirectory() as tmpdir:\n",
    "        f_in = os.path.join(tmpdir, \"in.fa\")\n",
    "        f_out = os.path.join(tmpdir, \"out.fa\")\n",
    "        Bio.SeqIO.write([ref_spike, seq], f_in, \"fasta\")\n",
    "        res = subprocess.run(\n",
    "            [\"muscle\", \"-align\", f_in, \"-output\", f_out],\n",
    "            check=True,\n",
    "            capture_output=True,\n",
    "        )\n",
    "        assert res.returncode == 0\n",
    "        aligned_ref, aligned_seq = list(Bio.SeqIO.parse(f_out, \"fasta\"))\n",
    "    muts = []\n",
    "    r = 1\n",
    "    for a_ref, a_seq in zip(aligned_ref.seq, aligned_seq.seq):\n",
    "        if a_ref != a_seq:\n",
    "            muts.append(f\"{a_ref}{r}{a_seq}\")\n",
    "        if a_ref != '-':\n",
    "            r += 1\n",
    "    print(f\"\\n{name} has the following {len(muts)} mutations:\\n  \" + \"\\n  \".join(muts))"
   ]
  },
  {
   "cell_type": "markdown",
   "id": "dd6bbc54-9d39-4ecd-93c7-956a6eb47dff",
   "metadata": {
    "tags": []
   },
   "source": [
    "Write the *parent-vax* to a file:"
   ]
  },
  {
   "cell_type": "code",
   "execution_count": 46,
   "id": "b0d56cec-5bee-4676-8844-6108433e199e",
   "metadata": {
    "tags": []
   },
   "outputs": [
    {
     "name": "stdout",
     "output_type": "stream",
     "text": [
      "Writing parent-vax if 1 to vax_designs/parent-vax.fa\n"
     ]
    }
   ],
   "source": [
    "os.makedirs(\"vax_designs\", exist_ok=True)\n",
    "parent_vax_file = \"vax_designs/parent-vax.fa\"\n",
    "print(f\"Writing parent-vax if {len(parents)} to {parent_vax_file}\")\n",
    "with open(parent_vax_file, \"w\") as f:\n",
    "    for name, seq in parents.items():\n",
    "        f.write(f\">{name}\\n{str(seq.seq)}\\n\")"
   ]
  },
  {
   "cell_type": "code",
   "execution_count": null,
   "id": "483b2f8b-862f-42e3-a9cc-629c9039e636",
   "metadata": {},
   "outputs": [],
   "source": []
  }
 ],
 "metadata": {
  "kernelspec": {
   "display_name": "Python 3 (ipykernel)",
   "language": "python",
   "name": "python3"
  },
  "language_info": {
   "codemirror_mode": {
    "name": "ipython",
    "version": 3
   },
   "file_extension": ".py",
   "mimetype": "text/x-python",
   "name": "python",
   "nbconvert_exporter": "python",
   "pygments_lexer": "ipython3",
   "version": "3.10.11"
  }
 },
 "nbformat": 4,
 "nbformat_minor": 5
}
