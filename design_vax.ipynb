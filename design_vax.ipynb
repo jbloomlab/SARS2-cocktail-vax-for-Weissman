{
 "cells": [
  {
   "cell_type": "markdown",
   "id": "fd4a310b-540b-4a3b-a18f-19aede5e5db1",
   "metadata": {},
   "source": [
    "# Design cocktail SARS-CoV-2 vaccines\n",
    "This notebook chooses/designs spikes for a SARS-CoV-2 cocktail vaccine.\n",
    "The design is done by Jesse Bloom, for a project led by Drew Weissman.\n",
    "\n",
    "We design the following vaccines:\n",
    "\n",
    " - **parent-vax**: unmutated spike(s) of leading SARS-CoV-2 variants at time of vaccine design.\n",
    " \n",
    " - **cocktail-vax**: spike(s) in *parent-vax* plus additional designed spikes with mutations predicted to be likely to occur in future human SARS-CoV-2.\n",
    " \n",
    " - **conservative-cocktail-vax**: like *cocktail-vax*, but fewer mutations per designed spike.\n",
    " \n",
    " - **aggressive-cocktail-vax**: like *cocktail-vax*, but more mutations per designed spike."
   ]
  },
  {
   "cell_type": "markdown",
   "id": "2a319498-77a9-4b92-9f72-e0f9eff5d385",
   "metadata": {},
   "source": [
    "## Setup\n",
    "Import Python modules:"
   ]
  },
  {
   "cell_type": "code",
   "execution_count": 6,
   "id": "f1ebf31a-43a9-4b55-a523-387ee5730c89",
   "metadata": {
    "tags": []
   },
   "outputs": [],
   "source": [
    "import os\n",
    "import subprocess\n",
    "import tempfile\n",
    "import urllib\n",
    "\n",
    "import altair as alt\n",
    "\n",
    "import Bio.Entrez\n",
    "import Bio.SeqIO\n",
    "\n",
    "import pandas as pd\n",
    "\n",
    "import yaml"
   ]
  },
  {
   "cell_type": "markdown",
   "id": "0db7d3d5-0ac6-4bd6-845c-51ad6201a208",
   "metadata": {},
   "source": [
    "Read configuration:"
   ]
  },
  {
   "cell_type": "code",
   "execution_count": 2,
   "id": "efc59b42-d5d6-4757-8277-4240372df73b",
   "metadata": {
    "tags": []
   },
   "outputs": [
    {
     "name": "stdout",
     "output_type": "stream",
     "text": [
      "Here is the configuration:\n",
      "\n",
      "components_per_cocktail: 5\n",
      "escapecalculator:\n",
      "  kwargs:\n",
      "    antibody_binding: https://raw.githubusercontent.com/jbloomlab/SARS2-RBD-escape-calc/683abdd4c3277a3cbc20cddd7ab98ff844f9ef80/results/antibody_binding.csv\n",
      "    antibody_ic50s: https://raw.githubusercontent.com/jbloomlab/SARS2-RBD-escape-calc/683abdd4c3277a3cbc20cddd7ab98ff844f9ef80/results/antibody_IC50s.csv\n",
      "    antibody_reweighting: https://raw.githubusercontent.com/jbloomlab/SARS2-RBD-escape-calc/683abdd4c3277a3cbc20cddd7ab98ff844f9ef80/results/antibody_reweighting.csv\n",
      "    antibody_sources: https://raw.githubusercontent.com/jbloomlab/SARS2-RBD-escape-calc/683abdd4c3277a3cbc20cddd7ab98ff844f9ef80/results/antibody_sources.csv\n",
      "    config: https://raw.githubusercontent.com/jbloomlab/SARS2-RBD-escape-calc/683abdd4c3277a3cbc20cddd7ab98ff844f9ef80/config.yaml\n",
      "  module_url: https://raw.githubusercontent.com/jbloomlab/SARS2-RBD-escape-calc/683abdd4c3277a3cbc20cddd7ab98ff844f9ef80/escapecalculator.py\n",
      "  parent_existing_mut_sites:\n",
      "    XBB.1.16:\n",
      "    - 478\n",
      "mutations_per_design:\n",
      "  aggressive-cocktail: 6\n",
      "  cocktail: 4\n",
      "  conservative-cocktail: 2\n",
      "parent_spikes:\n",
      "  XBB.1.16: WCM02109\n",
      "ref_spike: YP_009724390\n",
      "\n"
     ]
    }
   ],
   "source": [
    "with open(\"config.yaml\") as f:\n",
    "    config = yaml.safe_load(f)\n",
    "    \n",
    "print(\"Here is the configuration:\\n\")\n",
    "print(yaml.dump(config))"
   ]
  },
  {
   "cell_type": "markdown",
   "id": "ecbc0e04-acaf-4757-b68a-7b68abba5214",
   "metadata": {},
   "source": [
    "## Design *parent-vax* \n",
    "Get the sequences:"
   ]
  },
  {
   "cell_type": "code",
   "execution_count": 3,
   "id": "ca50f0fa-5bc9-4113-b753-b74448bcf3a2",
   "metadata": {
    "tags": []
   },
   "outputs": [
    {
     "name": "stdout",
     "output_type": "stream",
     "text": [
      "Getting reference spike from accession YP_009724390\n",
      "Got spike of length 1273\n",
      "\n",
      "Getting parent spike XBB.1.16 from WCM02109\n",
      "Got spike of length 1269\n"
     ]
    }
   ],
   "source": [
    "Bio.Entrez.email = \"example@example.com\"\n",
    "\n",
    "print(f\"Getting reference spike from accession {config['ref_spike']}\")\n",
    "with Bio.Entrez.efetch(id=config[\"ref_spike\"], rettype=\"gb\", retmode=\"text\", db=\"protein\") as f:\n",
    "    ref_spike = Bio.SeqIO.read(f, \"gb\")\n",
    "print(f\"Got spike of length {len(ref_spike)}\")\n",
    "\n",
    "parents = {}\n",
    "for name, acc in config[\"parent_spikes\"].items():\n",
    "    print(f\"\\nGetting parent spike {name} from {acc}\")\n",
    "    with Bio.Entrez.efetch(id=acc, rettype=\"gb\", retmode=\"text\", db=\"protein\") as f:\n",
    "        parents[name] = Bio.SeqIO.read(f, \"gb\")\n",
    "    print(f\"Got spike of length {len(parents[name])}\")"
   ]
  },
  {
   "cell_type": "markdown",
   "id": "f5d45f62-8f06-44a7-acf6-7f0648cb854f",
   "metadata": {
    "tags": []
   },
   "source": [
    "Get the lists of mutations in each parental spike relative to the Wuhan-Hu-1 reference, and also a mapping of site number to wildtypes:"
   ]
  },
  {
   "cell_type": "code",
   "execution_count": 25,
   "id": "cceee9e2-305b-4023-ad33-d1b67049e445",
   "metadata": {
    "tags": []
   },
   "outputs": [
    {
     "name": "stdout",
     "output_type": "stream",
     "text": [
      "\n",
      "XBB.1.16 has the following 43 mutations:\n",
      "  T19I\n",
      "  L24-\n",
      "  P25-\n",
      "  P26-\n",
      "  A27S\n",
      "  V83A\n",
      "  G142D\n",
      "  Y145-\n",
      "  H146Q\n",
      "  E180V\n",
      "  Q183E\n",
      "  V213E\n",
      "  G252V\n",
      "  G339H\n",
      "  R346T\n",
      "  L368I\n",
      "  S371F\n",
      "  S373P\n",
      "  S375F\n",
      "  T376A\n",
      "  D405N\n",
      "  R408S\n",
      "  K417N\n",
      "  N440K\n",
      "  V445P\n",
      "  G446S\n",
      "  N460K\n",
      "  S477N\n",
      "  T478R\n",
      "  E484A\n",
      "  F486P\n",
      "  F490S\n",
      "  Q498R\n",
      "  N501Y\n",
      "  Y505H\n",
      "  D614G\n",
      "  H655Y\n",
      "  N679K\n",
      "  P681H\n",
      "  N764K\n",
      "  D796Y\n",
      "  Q954H\n",
      "  N969K\n"
     ]
    }
   ],
   "source": [
    "parent_wts = {}\n",
    "\n",
    "for name, seq in parents.items():\n",
    "    with tempfile.TemporaryDirectory() as tmpdir:\n",
    "        f_in = os.path.join(tmpdir, \"in.fa\")\n",
    "        f_out = os.path.join(tmpdir, \"out.fa\")\n",
    "        Bio.SeqIO.write([ref_spike, seq], f_in, \"fasta\")\n",
    "        res = subprocess.run(\n",
    "            [\"muscle\", \"-align\", f_in, \"-output\", f_out],\n",
    "            check=True,\n",
    "            capture_output=True,\n",
    "        )\n",
    "        assert res.returncode == 0\n",
    "        aligned_ref, aligned_seq = list(Bio.SeqIO.parse(f_out, \"fasta\"))\n",
    "    muts = []\n",
    "    r = 1\n",
    "    parent_wts[name] = {}\n",
    "    for a_ref, a_seq in zip(aligned_ref.seq, aligned_seq.seq):\n",
    "        parent_wts[name][r] = a_seq\n",
    "        if a_ref != a_seq:\n",
    "            muts.append(f\"{a_ref}{r}{a_seq}\")\n",
    "        if a_ref != '-':\n",
    "            r += 1\n",
    "    print(f\"\\n{name} has the following {len(muts)} mutations:\\n  \" + \"\\n  \".join(muts))"
   ]
  },
  {
   "cell_type": "markdown",
   "id": "dd6bbc54-9d39-4ecd-93c7-956a6eb47dff",
   "metadata": {
    "tags": []
   },
   "source": [
    "Write the *parent-vax* to a file:"
   ]
  },
  {
   "cell_type": "code",
   "execution_count": 5,
   "id": "b0d56cec-5bee-4676-8844-6108433e199e",
   "metadata": {
    "tags": []
   },
   "outputs": [
    {
     "name": "stdout",
     "output_type": "stream",
     "text": [
      "Writing parent-vax if 1 to vax_designs/parent-vax.fa\n"
     ]
    }
   ],
   "source": [
    "os.makedirs(\"vax_designs\", exist_ok=True)\n",
    "parent_vax_file = \"vax_designs/parent-vax.fa\"\n",
    "print(f\"Writing parent-vax if {len(parents)} to {parent_vax_file}\")\n",
    "with open(parent_vax_file, \"w\") as f:\n",
    "    for name, seq in parents.items():\n",
    "        f.write(f\">{name}\\n{str(seq.seq)}\\n\")"
   ]
  },
  {
   "cell_type": "markdown",
   "id": "ce6ba58b-b81b-4238-8c5d-8c6e6153f6a4",
   "metadata": {},
   "source": [
    "## Now design mutated cocktails\n",
    "First, set up escape calculator:"
   ]
  },
  {
   "cell_type": "code",
   "execution_count": 14,
   "id": "5d9d7a80-5c94-410b-bac6-b6d5179a3f4f",
   "metadata": {
    "tags": []
   },
   "outputs": [
    {
     "name": "stdout",
     "output_type": "stream",
     "text": [
      "Using the following virus: escape_calc.virus='XBB'\n"
     ]
    }
   ],
   "source": [
    "# get and import the module\n",
    "_ = urllib.request.urlretrieve(\n",
    "    config[\"escapecalculator\"][\"module_url\"],\n",
    "    \"escapecalculator.py\",\n",
    ")\n",
    "import escapecalculator\n",
    "\n",
    "escape_calc = escapecalculator.EscapeCalculator(**config[\"escapecalculator\"][\"kwargs\"])\n",
    "\n",
    "print(f\"Using the following virus: {escape_calc.virus=}\")"
   ]
  },
  {
   "cell_type": "markdown",
   "id": "254d4e91-09e8-4c5b-9a1c-dbdf4fb83af5",
   "metadata": {},
   "source": [
    "Now iterate through the cocktails and design the mutants according to the following criteria:\n",
    "\n",
    " - We include all the parents\n",
    " - For the remaining components, we:\n",
    "   1. Pick a parent\n",
    "   2. Choose the specified number of mutations that:\n",
    "     - Cause the most escape according to the [RBD escape calculator](https://jbloomlab.github.io/SARS2-RBD-escape-calc/), but according to the condition no mutation is repeated in the cocktail.\n",
    "   3. Pick the next parent (repeating a previously used one if needed), and pick a new set of mutations.\n",
    "   "
   ]
  },
  {
   "cell_type": "code",
   "execution_count": 41,
   "id": "6b0e0f95-47db-4d75-b6ac-e1b134452e29",
   "metadata": {
    "tags": []
   },
   "outputs": [
    {
     "name": "stdout",
     "output_type": "stream",
     "text": [
      "All cocktails have 5 components\n",
      "\n",
      "Designing cocktail with 4 mutations per design\n",
      "[('XBB.1.16', 'MFVFLVLLPLVSSQCVNLITRTQSYTNSFTRGVYYPDKVFRSSVLHSTQDLFLPFFSNVTWFHAIHVSGTNGTKRFDNPALPFNDGVYFASTEKSNIIRGWIFGTTLDSKTQSLLIVNNATNVVIKVCEFQFCNDPFLDVYQKNNKSWMESEFRVYSSANNCTFEYVSQPFLMDLVGKEGNFKNLREFVFKNIDGYFKIYSKHTPINLERDLPQGFSALEPLVDLPIGINITRFQTLLALHRSYLTPVDSSSGWTAGAAAYYVGYLQPRTFLLKYNENGTITDAVDCALDPLSETKCTLKSFTVEKGIYQTSNFRVQPTESIVRFPNITNLCPFHEVFNATTFASVYAWNRKRISNCVADYSVIYNFAPFFAFKCYGVSPTKLNDLCFTNVYADSFVIRGNEVSQIAPGQTGNIADYNYKLPDDFTGCVIAWNSNKLDSKPSGNYNYLYRLFRKSKLKPFERDISTEIYQAGNRPCNGVAGPNCYSPLQSYGFRPTYGVGHQPYRVVVLSFELLHAPATVCGPKKSTNLVKNKCVNFNFNGLTGTGVLTESNKKFLPFQQFGRDIADTTDAVRDPQTLEILDITPCSFGGVSVITPGTNTSNQVAVLYQGVNCTEVPVAIHADQLTPTWRVYSTGSNVFQTRAGCLIGAEYVNNSYECDIPIGAGICASYQTQTKSHRRARSVASQSIIAYTMSLGAENSVAYSNNSIAIPTNFTISVTTEILPVSMTKTSVDCTMYICGDSTECSNLLLQYGSFCTQLKRALTGIAVEQDKNTQEVFAQVKQIYKTPPIKYFGGFNFSQILPDPSKPSKRSFIEDLLFNKVTLADAGFIKQYGDCLGDIAARDLICAQKFNGLTVLPPLLTDEMIAQYTSALLAGTITSGWTFGAGAALQIPFAMQMAYRFNGIGVTQNVLYENQKLIANQFNSAIGKIQDSLSSTASALGKLQDVVNHNAQALNTLVKQLSSKFGAISSVLNDILSRLDKVEAEVQIDRLITGRLQSLQTYVTQQLIRAAEIRASANLAATKMSECVLGQSKRVDFCGKGYHLMSFPQSAPHGVVFLHVTYVPAQEKNFTTAPAICHDGKAHFPREGVFVSNGTHWFVTQRNFYEPQIITTDNTFVSGNCDVVIGIVNNTVYDPLQPELDSFKEELDKYFKNHTSPDVDLGDISGINASVVNIQKEIDRLNEVAKNLNESLIDLQELGKYEQYIKWPWYIWLGFIAGLIAIVMVTIMLCCMTSCCSCLKGCCSCGSCCKFDEDDSEPVLKGVKLHYT'), ('XBB.1.16_H505_K440_Y489_R498', 'seq'), ('XBB.1.16_F456_N439_G447_I468', 'seq'), ('XBB.1.16_L455_P445_N405_K462', 'seq'), ('XBB.1.16_A475_R403_K444_K356', 'seq')]\n",
      "\n",
      "Designing aggressive-cocktail with 6 mutations per design\n",
      "[('XBB.1.16', 'MFVFLVLLPLVSSQCVNLITRTQSYTNSFTRGVYYPDKVFRSSVLHSTQDLFLPFFSNVTWFHAIHVSGTNGTKRFDNPALPFNDGVYFASTEKSNIIRGWIFGTTLDSKTQSLLIVNNATNVVIKVCEFQFCNDPFLDVYQKNNKSWMESEFRVYSSANNCTFEYVSQPFLMDLVGKEGNFKNLREFVFKNIDGYFKIYSKHTPINLERDLPQGFSALEPLVDLPIGINITRFQTLLALHRSYLTPVDSSSGWTAGAAAYYVGYLQPRTFLLKYNENGTITDAVDCALDPLSETKCTLKSFTVEKGIYQTSNFRVQPTESIVRFPNITNLCPFHEVFNATTFASVYAWNRKRISNCVADYSVIYNFAPFFAFKCYGVSPTKLNDLCFTNVYADSFVIRGNEVSQIAPGQTGNIADYNYKLPDDFTGCVIAWNSNKLDSKPSGNYNYLYRLFRKSKLKPFERDISTEIYQAGNRPCNGVAGPNCYSPLQSYGFRPTYGVGHQPYRVVVLSFELLHAPATVCGPKKSTNLVKNKCVNFNFNGLTGTGVLTESNKKFLPFQQFGRDIADTTDAVRDPQTLEILDITPCSFGGVSVITPGTNTSNQVAVLYQGVNCTEVPVAIHADQLTPTWRVYSTGSNVFQTRAGCLIGAEYVNNSYECDIPIGAGICASYQTQTKSHRRARSVASQSIIAYTMSLGAENSVAYSNNSIAIPTNFTISVTTEILPVSMTKTSVDCTMYICGDSTECSNLLLQYGSFCTQLKRALTGIAVEQDKNTQEVFAQVKQIYKTPPIKYFGGFNFSQILPDPSKPSKRSFIEDLLFNKVTLADAGFIKQYGDCLGDIAARDLICAQKFNGLTVLPPLLTDEMIAQYTSALLAGTITSGWTFGAGAALQIPFAMQMAYRFNGIGVTQNVLYENQKLIANQFNSAIGKIQDSLSSTASALGKLQDVVNHNAQALNTLVKQLSSKFGAISSVLNDILSRLDKVEAEVQIDRLITGRLQSLQTYVTQQLIRAAEIRASANLAATKMSECVLGQSKRVDFCGKGYHLMSFPQSAPHGVVFLHVTYVPAQEKNFTTAPAICHDGKAHFPREGVFVSNGTHWFVTQRNFYEPQIITTDNTFVSGNCDVVIGIVNNTVYDPLQPELDSFKEELDKYFKNHTSPDVDLGDISGINASVVNIQKEIDRLNEVAKNLNESLIDLQELGKYEQYIKWPWYIWLGFIAGLIAIVMVTIMLCCMTSCCSCLKGCCSCGSCCKFDEDDSEPVLKGVKLHYT'), ('XBB.1.16_H505_K440_Y489_R498_I468_K462', 'seq'), ('XBB.1.16_F456_N439_G447_K356_N405_F347', 'seq'), ('XBB.1.16_L455_P445_R403_R357_Y449_A475', 'seq'), ('XBB.1.16_N487_K444_G504_T500_S490_A348', 'seq')]\n",
      "\n",
      "Designing conservative-cocktail with 2 mutations per design\n",
      "[('XBB.1.16', 'MFVFLVLLPLVSSQCVNLITRTQSYTNSFTRGVYYPDKVFRSSVLHSTQDLFLPFFSNVTWFHAIHVSGTNGTKRFDNPALPFNDGVYFASTEKSNIIRGWIFGTTLDSKTQSLLIVNNATNVVIKVCEFQFCNDPFLDVYQKNNKSWMESEFRVYSSANNCTFEYVSQPFLMDLVGKEGNFKNLREFVFKNIDGYFKIYSKHTPINLERDLPQGFSALEPLVDLPIGINITRFQTLLALHRSYLTPVDSSSGWTAGAAAYYVGYLQPRTFLLKYNENGTITDAVDCALDPLSETKCTLKSFTVEKGIYQTSNFRVQPTESIVRFPNITNLCPFHEVFNATTFASVYAWNRKRISNCVADYSVIYNFAPFFAFKCYGVSPTKLNDLCFTNVYADSFVIRGNEVSQIAPGQTGNIADYNYKLPDDFTGCVIAWNSNKLDSKPSGNYNYLYRLFRKSKLKPFERDISTEIYQAGNRPCNGVAGPNCYSPLQSYGFRPTYGVGHQPYRVVVLSFELLHAPATVCGPKKSTNLVKNKCVNFNFNGLTGTGVLTESNKKFLPFQQFGRDIADTTDAVRDPQTLEILDITPCSFGGVSVITPGTNTSNQVAVLYQGVNCTEVPVAIHADQLTPTWRVYSTGSNVFQTRAGCLIGAEYVNNSYECDIPIGAGICASYQTQTKSHRRARSVASQSIIAYTMSLGAENSVAYSNNSIAIPTNFTISVTTEILPVSMTKTSVDCTMYICGDSTECSNLLLQYGSFCTQLKRALTGIAVEQDKNTQEVFAQVKQIYKTPPIKYFGGFNFSQILPDPSKPSKRSFIEDLLFNKVTLADAGFIKQYGDCLGDIAARDLICAQKFNGLTVLPPLLTDEMIAQYTSALLAGTITSGWTFGAGAALQIPFAMQMAYRFNGIGVTQNVLYENQKLIANQFNSAIGKIQDSLSSTASALGKLQDVVNHNAQALNTLVKQLSSKFGAISSVLNDILSRLDKVEAEVQIDRLITGRLQSLQTYVTQQLIRAAEIRASANLAATKMSECVLGQSKRVDFCGKGYHLMSFPQSAPHGVVFLHVTYVPAQEKNFTTAPAICHDGKAHFPREGVFVSNGTHWFVTQRNFYEPQIITTDNTFVSGNCDVVIGIVNNTVYDPLQPELDSFKEELDKYFKNHTSPDVDLGDISGINASVVNIQKEIDRLNEVAKNLNESLIDLQELGKYEQYIKWPWYIWLGFIAGLIAIVMVTIMLCCMTSCCSCLKGCCSCGSCCKFDEDDSEPVLKGVKLHYT'), ('XBB.1.16_H505_K440', 'seq'), ('XBB.1.16_Y489_R498', 'seq'), ('XBB.1.16_F456_N439', 'seq'), ('XBB.1.16_G447_L455', 'seq')]\n"
     ]
    }
   ],
   "source": [
    "components_per_cocktail = config[\"components_per_cocktail\"]\n",
    "mutations_per_design = config[\"mutations_per_design\"]\n",
    "parent_existing_mut_sites = config[\"escapecalculator\"][\"parent_existing_mut_sites\"]\n",
    "\n",
    "if len(parents) >= components_per_cocktail:\n",
    "    raise ValueError(\"nothing to design if as many parents and components\")\n",
    "print(f\"All cocktails have {components_per_cocktail} components\")\n",
    "\n",
    "for cocktail, n_muts in mutations_per_design.items():\n",
    "    print(f\"\\nDesigning {cocktail} with {n_muts} mutations per design\")\n",
    "    \n",
    "    cocktail_seqs = [(name, str(seq.seq)) for name, seq in parents.items()]\n",
    "    cocktail_mutations = set()  # set of all mutations in cocktail so far, do not repeat\n",
    "    \n",
    "    i = 0\n",
    "    while len(cocktail_seqs) < components_per_cocktail:\n",
    "        design_parent_name, design_parent_seq = list(parents.items())[i % len(parents)]\n",
    "        i += 1\n",
    "        \n",
    "        mut_sites = list(parent_existing_mut_sites[design_parent_name])\n",
    "        \n",
    "        design_mutations = []\n",
    "        for _ in range(n_muts):\n",
    "            mut_scores = (\n",
    "                escape_calc.escape_per_site(mut_sites)\n",
    "                .assign(\n",
    "                    parent_aa=lambda x: x[\"site\"].map(parent_wts[design_parent_name]),\n",
    "                    mutation=lambda x: x[\"parent_aa\"] + x[\"site\"].astype(str),\n",
    "                    score=lambda x: x[\"retained_escape\"],\n",
    "                )\n",
    "                .sort_values(\"score\", ascending=False)\n",
    "                .query(\"mutation not in @cocktail_mutations\")\n",
    "            )\n",
    "            mutation = mut_scores[\"mutation\"].iloc[0]\n",
    "            site = mut_scores[\"site\"].iloc[0]\n",
    "            design_mutations.append(mutation)\n",
    "            cocktail_mutations.add(mutation)\n",
    "            mut_sites.append(site)\n",
    "            \n",
    "        cocktail_seqs.append(\n",
    "            (\n",
    "                design_parent_name + \"_\" + \"_\".join(design_mutations),\n",
    "                \"seq\",\n",
    "            )\n",
    "        )\n",
    "    print(cocktail_seqs)"
   ]
  },
  {
   "cell_type": "code",
   "execution_count": 30,
   "id": "2237df78-f340-4557-89fd-72b6ba003b3f",
   "metadata": {
    "tags": []
   },
   "outputs": [
    {
     "data": {
      "text/html": [
       "<div>\n",
       "<style scoped>\n",
       "    .dataframe tbody tr th:only-of-type {\n",
       "        vertical-align: middle;\n",
       "    }\n",
       "\n",
       "    .dataframe tbody tr th {\n",
       "        vertical-align: top;\n",
       "    }\n",
       "\n",
       "    .dataframe thead th {\n",
       "        text-align: right;\n",
       "    }\n",
       "</style>\n",
       "<table border=\"1\" class=\"dataframe\">\n",
       "  <thead>\n",
       "    <tr style=\"text-align: right;\">\n",
       "      <th></th>\n",
       "      <th>site</th>\n",
       "      <th>original_escape</th>\n",
       "      <th>retained_escape</th>\n",
       "      <th>wt</th>\n",
       "    </tr>\n",
       "  </thead>\n",
       "  <tbody>\n",
       "    <tr>\n",
       "      <th>137</th>\n",
       "      <td>478</td>\n",
       "      <td>0.018365</td>\n",
       "      <td>0.003594</td>\n",
       "      <td>R</td>\n",
       "    </tr>\n",
       "    <tr>\n",
       "      <th>143</th>\n",
       "      <td>484</td>\n",
       "      <td>0.044825</td>\n",
       "      <td>0.040390</td>\n",
       "      <td>A</td>\n",
       "    </tr>\n",
       "    <tr>\n",
       "      <th>145</th>\n",
       "      <td>486</td>\n",
       "      <td>0.017007</td>\n",
       "      <td>0.013597</td>\n",
       "      <td>P</td>\n",
       "    </tr>\n",
       "  </tbody>\n",
       "</table>\n",
       "</div>"
      ],
      "text/plain": [
       "     site  original_escape  retained_escape wt\n",
       "137   478         0.018365         0.003594  R\n",
       "143   484         0.044825         0.040390  A\n",
       "145   486         0.017007         0.013597  P"
      ]
     },
     "execution_count": 30,
     "metadata": {},
     "output_type": "execute_result"
    }
   ],
   "source": [
    "escape.query(\"site in [484, 478, 486]\")"
   ]
  },
  {
   "cell_type": "code",
   "execution_count": null,
   "id": "34e824cd-1903-49ce-8ce3-6b4436bb3623",
   "metadata": {},
   "outputs": [],
   "source": []
  }
 ],
 "metadata": {
  "kernelspec": {
   "display_name": "Python 3 (ipykernel)",
   "language": "python",
   "name": "python3"
  },
  "language_info": {
   "codemirror_mode": {
    "name": "ipython",
    "version": 3
   },
   "file_extension": ".py",
   "mimetype": "text/x-python",
   "name": "python",
   "nbconvert_exporter": "python",
   "pygments_lexer": "ipython3",
   "version": "3.10.11"
  }
 },
 "nbformat": 4,
 "nbformat_minor": 5
}
